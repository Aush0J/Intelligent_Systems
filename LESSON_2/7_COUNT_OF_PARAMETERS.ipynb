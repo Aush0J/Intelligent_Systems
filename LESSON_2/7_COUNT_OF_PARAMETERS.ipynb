{
 "cells": [
  {
   "cell_type": "code",
   "execution_count": 1,
   "metadata": {
    "id": "j7-LiwqUMGYL"
   },
   "outputs": [],
   "source": [
    "# import libraries\n",
    "import numpy as np\n",
    "import torch\n",
    "import torch.nn as nn"
   ]
  },
  {
   "cell_type": "code",
   "execution_count": 2,
   "metadata": {
    "id": "krQeh5wYMNla"
   },
   "outputs": [
    {
     "name": "stdout",
     "output_type": "stream",
     "text": [
      "Sequential(\n",
      "  (0): Linear(in_features=2, out_features=2, bias=True)\n",
      "  (1): Linear(in_features=2, out_features=2, bias=True)\n",
      "  (2): Linear(in_features=2, out_features=3, bias=True)\n",
      ")\n",
      " \n",
      "Sequential(\n",
      "  (0): Linear(in_features=2, out_features=4, bias=True)\n",
      "  (1): Linear(in_features=4, out_features=3, bias=True)\n",
      ")\n"
     ]
    }
   ],
   "source": [
    "# build two models\n",
    "deep = nn.Sequential(\n",
    "    nn.Linear(2,2),  # hidden layer\n",
    "    nn.Linear(2,2),  # hidden layer\n",
    "    nn.Linear(2,3),  # output layer\n",
    "    )\n",
    "\n",
    "wide = nn.Sequential(\n",
    "    nn.Linear(2,4),  # hidden layer\n",
    "    nn.Linear(4,3),  # output layer\n",
    "    )\n",
    "\n",
    "\n",
    "\n",
    "# print them out to have a look\n",
    "print(deep)\n",
    "print(' ')\n",
    "print(wide)"
   ]
  },
  {
   "cell_type": "markdown",
   "metadata": {
    "id": "ni8L4jRgopMO"
   },
   "source": [
    "# Checking Parameters"
   ]
  },
  {
   "cell_type": "code",
   "execution_count": 3,
   "metadata": {
    "id": "lrKmii4Xmx-Z"
   },
   "outputs": [
    {
     "name": "stdout",
     "output_type": "stream",
     "text": [
      "('0.weight', Parameter containing:\n",
      "tensor([[-0.0786,  0.6759],\n",
      "        [-0.4555,  0.3974]], requires_grad=True))\n",
      "-------------\n",
      "('0.bias', Parameter containing:\n",
      "tensor([ 0.6954, -0.0413], requires_grad=True))\n",
      "-------------\n",
      "('1.weight', Parameter containing:\n",
      "tensor([[-0.0024,  0.6080],\n",
      "        [-0.1968, -0.4783]], requires_grad=True))\n",
      "-------------\n",
      "('1.bias', Parameter containing:\n",
      "tensor([ 0.5409, -0.1632], requires_grad=True))\n",
      "-------------\n",
      "('2.weight', Parameter containing:\n",
      "tensor([[ 0.0192, -0.5720],\n",
      "        [ 0.3347, -0.2997],\n",
      "        [-0.0828,  0.3275]], requires_grad=True))\n",
      "-------------\n",
      "('2.bias', Parameter containing:\n",
      "tensor([ 0.3047, -0.3402,  0.2541], requires_grad=True))\n",
      "-------------\n"
     ]
    }
   ],
   "source": [
    "for param in deep.named_parameters():\n",
    "    print(param)\n",
    "    print('-------------')"
   ]
  },
  {
   "cell_type": "code",
   "execution_count": 4,
   "metadata": {},
   "outputs": [
    {
     "name": "stdout",
     "output_type": "stream",
     "text": [
      "Parameter containing:\n",
      "tensor([[-0.3307,  0.0422],\n",
      "        [ 0.1839,  0.2560],\n",
      "        [-0.1687,  0.0802],\n",
      "        [ 0.4770, -0.4043]], requires_grad=True)\n",
      " \n",
      "Parameter containing:\n",
      "tensor([ 0.2573, -0.5367, -0.5668, -0.6522], requires_grad=True)\n",
      " \n",
      "Parameter containing:\n",
      "tensor([[-0.1277,  0.0472,  0.2251,  0.4862],\n",
      "        [-0.2853, -0.4386,  0.4768, -0.4162],\n",
      "        [ 0.1084, -0.2499, -0.4262, -0.1069]], requires_grad=True)\n",
      " \n",
      "Parameter containing:\n",
      "tensor([-0.0057,  0.3591,  0.3644], requires_grad=True)\n",
      " \n"
     ]
    }
   ],
   "source": [
    "for p in wide.parameters():\n",
    "    print(p)\n",
    "    print(' ')"
   ]
  },
  {
   "cell_type": "code",
   "execution_count": 23,
   "metadata": {
    "id": "_6GzhyxLUrYy"
   },
   "outputs": [
    {
     "name": "stdout",
     "output_type": "stream",
     "text": [
      "----------------------------------------------------------------\n",
      "        Layer (type)               Output Shape         Param #\n",
      "================================================================\n",
      "            Linear-1                 [-1, 1, 4]              12\n",
      "            Linear-2                 [-1, 1, 3]              15\n",
      "================================================================\n",
      "Total params: 27\n",
      "Trainable params: 27\n",
      "Non-trainable params: 0\n",
      "----------------------------------------------------------------\n",
      "Input size (MB): 0.00\n",
      "Forward/backward pass size (MB): 0.00\n",
      "Params size (MB): 0.00\n",
      "Estimated Total Size (MB): 0.00\n",
      "----------------------------------------------------------------\n"
     ]
    }
   ],
   "source": [
    "# now count the total number of trainable parameters\n",
    "from torchsummary import summary\n",
    "summary(wide,input_size=(1,2),batch_size=-1)\n"
   ]
  },
  {
   "cell_type": "code",
   "execution_count": 24,
   "metadata": {},
   "outputs": [
    {
     "name": "stdout",
     "output_type": "stream",
     "text": [
      "----------------------------------------------------------------\n",
      "        Layer (type)               Output Shape         Param #\n",
      "================================================================\n",
      "            Linear-1                 [-1, 1, 2]               6\n",
      "            Linear-2                 [-1, 1, 2]               6\n",
      "            Linear-3                 [-1, 1, 3]               9\n",
      "================================================================\n",
      "Total params: 21\n",
      "Trainable params: 21\n",
      "Non-trainable params: 0\n",
      "----------------------------------------------------------------\n",
      "Input size (MB): 0.00\n",
      "Forward/backward pass size (MB): 0.00\n",
      "Params size (MB): 0.00\n",
      "Estimated Total Size (MB): 0.00\n",
      "----------------------------------------------------------------\n"
     ]
    }
   ],
   "source": [
    "from torchsummary import summary\n",
    "summary(deep,input_size=(1,2),batch_size=-1)"
   ]
  },
  {
   "cell_type": "code",
   "execution_count": null,
   "metadata": {},
   "outputs": [],
   "source": []
  }
 ],
 "metadata": {
  "colab": {
   "authorship_tag": "ABX9TyNp0/OYNZqgbUCz8Xrl2dyW",
   "collapsed_sections": [],
   "name": "DUDL_ANN_numParameters.ipynb",
   "provenance": [
    {
     "file_id": "1Q_oDw0aMA4QFKDnLxuqJp62P8oPMtO1R",
     "timestamp": 1618255245074
    },
    {
     "file_id": "1FtQ99beHYcDFDywLdaPgFm-KjBeI8PvD",
     "timestamp": 1615884593383
    }
   ]
  },
  "kernelspec": {
   "display_name": "Python 3 (ipykernel)",
   "language": "python",
   "name": "python3"
  },
  "language_info": {
   "codemirror_mode": {
    "name": "ipython",
    "version": 3
   },
   "file_extension": ".py",
   "mimetype": "text/x-python",
   "name": "python",
   "nbconvert_exporter": "python",
   "pygments_lexer": "ipython3",
   "version": "3.8.19"
  }
 },
 "nbformat": 4,
 "nbformat_minor": 1
}
